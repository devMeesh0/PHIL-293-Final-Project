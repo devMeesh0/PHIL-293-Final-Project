{
 "cells": [
  {
   "cell_type": "code",
   "execution_count": 26,
   "metadata": {},
   "outputs": [],
   "source": [
    "# Importing required libraries\n",
    "import pandas as pd\n",
    "import numpy as np\n",
    "from sklearn.model_selection import train_test_split, cross_val_score\n",
    "from sklearn.linear_model import LogisticRegression\n",
    "from sklearn.preprocessing import StandardScaler\n",
    "from sklearn.metrics import roc_auc_score, roc_curve, auc\n",
    "import matplotlib.pyplot as plt\n",
    "from sklearn.preprocessing import LabelEncoder\n",
    "import joblib"
   ]
  },
  {
   "cell_type": "code",
   "execution_count": 27,
   "metadata": {},
   "outputs": [],
   "source": [
    "df = pd.read_csv(\"Computer_and_Mathematical_Occupations.csv\")\n"
   ]
  },
  {
   "cell_type": "code",
   "execution_count": 28,
   "metadata": {},
   "outputs": [
    {
     "name": "stdout",
     "output_type": "stream",
     "text": [
      "  O*NET-SOC Code  Task ID                                             Task_x  \\\n",
      "0     15-1211.00    20950  Troubleshoot program and system malfunctions t...   \n",
      "1     15-1211.00    20950  Troubleshoot program and system malfunctions t...   \n",
      "2     15-1211.00    20950  Troubleshoot program and system malfunctions t...   \n",
      "3     15-1211.00    20950  Troubleshoot program and system malfunctions t...   \n",
      "4     15-1211.00    20950  Troubleshoot program and system malfunctions t...   \n",
      "\n",
      "   Scale Name  Data Value  Task_y  Task Type  Importance_x   Level_x  \\\n",
      "0           1        0.00    1910          1      3.137317  3.275366   \n",
      "1           1        3.32    1910          1      3.137317  3.275366   \n",
      "2           1       26.94    1910          1      3.137317  3.275366   \n",
      "3           1       21.71    1910          1      3.137317  3.275366   \n",
      "4           1       19.84    1910          1      3.137317  3.275366   \n",
      "\n",
      "   Importance_y  ...  Importance     Level  Tech Readiness  Tool Dependency  \\\n",
      "0      2.985714  ...        2.31  2.001923        0.395498              4.0   \n",
      "1      2.985714  ...        2.31  2.001923        0.395498              4.0   \n",
      "2      2.985714  ...        2.31  2.001923        0.395498              4.0   \n",
      "3      2.985714  ...        2.31  2.001923        0.395498              4.0   \n",
      "4      2.985714  ...        2.31  2.001923        0.395498              4.0   \n",
      "\n",
      "    Context  Context (Categories 1-3)  Context (Categories 1-5)  \\\n",
      "0  2.461404                 33.333333                      20.0   \n",
      "1  2.461404                 33.333333                      20.0   \n",
      "2  2.461404                 33.333333                      20.0   \n",
      "3  2.461404                 33.333333                      20.0   \n",
      "4  2.461404                 33.333333                      20.0   \n",
      "\n",
      "                       Title Automatability  \\\n",
      "0  Computer Systems Analysts       0.457624   \n",
      "1  Computer Systems Analysts       0.457624   \n",
      "2  Computer Systems Analysts       0.457624   \n",
      "3  Computer Systems Analysts       0.457624   \n",
      "4  Computer Systems Analysts       0.457624   \n",
      "\n",
      "                                Category  \n",
      "0  Computer and Mathematical Occupations  \n",
      "1  Computer and Mathematical Occupations  \n",
      "2  Computer and Mathematical Occupations  \n",
      "3  Computer and Mathematical Occupations  \n",
      "4  Computer and Mathematical Occupations  \n",
      "\n",
      "[5 rows x 21 columns]\n"
     ]
    }
   ],
   "source": [
    "print(df.head())"
   ]
  },
  {
   "cell_type": "code",
   "execution_count": 29,
   "metadata": {},
   "outputs": [
    {
     "name": "stdout",
     "output_type": "stream",
     "text": [
      "Index(['O*NET-SOC Code', 'Task ID', 'Task_x', 'Scale Name', 'Data Value',\n",
      "       'Task_y', 'Task Type', 'Importance_x', 'Level_x', 'Importance_y',\n",
      "       'Level_y', 'Importance', 'Level', 'Tech Readiness', 'Tool Dependency',\n",
      "       'Context', 'Context (Categories 1-3)', 'Context (Categories 1-5)',\n",
      "       'Title', 'Automatability', 'Category'],\n",
      "      dtype='object')\n"
     ]
    }
   ],
   "source": [
    "print(df.columns)"
   ]
  },
  {
   "cell_type": "code",
   "execution_count": null,
   "metadata": {},
   "outputs": [],
   "source": []
  },
  {
   "cell_type": "code",
   "execution_count": 30,
   "metadata": {},
   "outputs": [
    {
     "name": "stdout",
     "output_type": "stream",
     "text": [
      "  O*NET-SOC Code  Task ID                                             Task_x  \\\n",
      "0     15-1211.00    20950  Troubleshoot program and system malfunctions t...   \n",
      "1     15-1211.00    20950  Troubleshoot program and system malfunctions t...   \n",
      "2     15-1211.00    20950  Troubleshoot program and system malfunctions t...   \n",
      "3     15-1211.00    20950  Troubleshoot program and system malfunctions t...   \n",
      "4     15-1211.00    20950  Troubleshoot program and system malfunctions t...   \n",
      "\n",
      "   Scale Name  Data Value  Task_y  Task Type  Importance_x   Level_x  \\\n",
      "0           1        0.00    1910          1      3.137317  3.275366   \n",
      "1           1        3.32    1910          1      3.137317  3.275366   \n",
      "2           1       26.94    1910          1      3.137317  3.275366   \n",
      "3           1       21.71    1910          1      3.137317  3.275366   \n",
      "4           1       19.84    1910          1      3.137317  3.275366   \n",
      "\n",
      "   Importance_y  ...     Level  Tech Readiness  Tool Dependency   Context  \\\n",
      "0      2.985714  ...  2.001923        0.395498              4.0  2.461404   \n",
      "1      2.985714  ...  2.001923        0.395498              4.0  2.461404   \n",
      "2      2.985714  ...  2.001923        0.395498              4.0  2.461404   \n",
      "3      2.985714  ...  2.001923        0.395498              4.0  2.461404   \n",
      "4      2.985714  ...  2.001923        0.395498              4.0  2.461404   \n",
      "\n",
      "   Context (Categories 1-3)  Context (Categories 1-5)  \\\n",
      "0                 33.333333                      20.0   \n",
      "1                 33.333333                      20.0   \n",
      "2                 33.333333                      20.0   \n",
      "3                 33.333333                      20.0   \n",
      "4                 33.333333                      20.0   \n",
      "\n",
      "                       Title  Automatability  \\\n",
      "0  Computer Systems Analysts        0.457624   \n",
      "1  Computer Systems Analysts        0.457624   \n",
      "2  Computer Systems Analysts        0.457624   \n",
      "3  Computer Systems Analysts        0.457624   \n",
      "4  Computer Systems Analysts        0.457624   \n",
      "\n",
      "                                Category  Automatibility_Label  \n",
      "0  Computer and Mathematical Occupations                     0  \n",
      "1  Computer and Mathematical Occupations                     0  \n",
      "2  Computer and Mathematical Occupations                     0  \n",
      "3  Computer and Mathematical Occupations                     0  \n",
      "4  Computer and Mathematical Occupations                     0  \n",
      "\n",
      "[5 rows x 22 columns]\n"
     ]
    }
   ],
   "source": [
    "df['Automatibility_Label'] = (df['Automatability'] >= 0.5113).astype(int)\n",
    "print(df.head())"
   ]
  },
  {
   "cell_type": "code",
   "execution_count": null,
   "metadata": {},
   "outputs": [],
   "source": []
  },
  {
   "cell_type": "code",
   "execution_count": 31,
   "metadata": {},
   "outputs": [],
   "source": [
    "df.drop(columns=['Automatability'], inplace=True)\n",
    "df['Task Type'] = df['Task Type'] - 1 "
   ]
  },
  {
   "cell_type": "code",
   "execution_count": 32,
   "metadata": {},
   "outputs": [],
   "source": [
    "label_encoder = LabelEncoder()\n",
    "df['Scale Name'] = label_encoder.fit_transform(df['Scale Name'])\n",
    "columns_to_drop = [\"O*NET-SOC Code\", \"Task ID\", \"Task_x\", \"Title\", \"Category\"]\n",
    "df = df.drop(columns=columns_to_drop, errors='ignore')\n",
    "df.fillna(df.mean(), inplace=True)"
   ]
  },
  {
   "cell_type": "code",
   "execution_count": 33,
   "metadata": {},
   "outputs": [],
   "source": [
    "X = df.drop(columns=[\"Automatibility_Label\"])\n",
    "y = df[\"Automatibility_Label\"]"
   ]
  },
  {
   "cell_type": "code",
   "execution_count": 34,
   "metadata": {},
   "outputs": [
    {
     "data": {
      "text/html": [
       "<style>#sk-container-id-2 {color: black;background-color: white;}#sk-container-id-2 pre{padding: 0;}#sk-container-id-2 div.sk-toggleable {background-color: white;}#sk-container-id-2 label.sk-toggleable__label {cursor: pointer;display: block;width: 100%;margin-bottom: 0;padding: 0.3em;box-sizing: border-box;text-align: center;}#sk-container-id-2 label.sk-toggleable__label-arrow:before {content: \"▸\";float: left;margin-right: 0.25em;color: #696969;}#sk-container-id-2 label.sk-toggleable__label-arrow:hover:before {color: black;}#sk-container-id-2 div.sk-estimator:hover label.sk-toggleable__label-arrow:before {color: black;}#sk-container-id-2 div.sk-toggleable__content {max-height: 0;max-width: 0;overflow: hidden;text-align: left;background-color: #f0f8ff;}#sk-container-id-2 div.sk-toggleable__content pre {margin: 0.2em;color: black;border-radius: 0.25em;background-color: #f0f8ff;}#sk-container-id-2 input.sk-toggleable__control:checked~div.sk-toggleable__content {max-height: 200px;max-width: 100%;overflow: auto;}#sk-container-id-2 input.sk-toggleable__control:checked~label.sk-toggleable__label-arrow:before {content: \"▾\";}#sk-container-id-2 div.sk-estimator input.sk-toggleable__control:checked~label.sk-toggleable__label {background-color: #d4ebff;}#sk-container-id-2 div.sk-label input.sk-toggleable__control:checked~label.sk-toggleable__label {background-color: #d4ebff;}#sk-container-id-2 input.sk-hidden--visually {border: 0;clip: rect(1px 1px 1px 1px);clip: rect(1px, 1px, 1px, 1px);height: 1px;margin: -1px;overflow: hidden;padding: 0;position: absolute;width: 1px;}#sk-container-id-2 div.sk-estimator {font-family: monospace;background-color: #f0f8ff;border: 1px dotted black;border-radius: 0.25em;box-sizing: border-box;margin-bottom: 0.5em;}#sk-container-id-2 div.sk-estimator:hover {background-color: #d4ebff;}#sk-container-id-2 div.sk-parallel-item::after {content: \"\";width: 100%;border-bottom: 1px solid gray;flex-grow: 1;}#sk-container-id-2 div.sk-label:hover label.sk-toggleable__label {background-color: #d4ebff;}#sk-container-id-2 div.sk-serial::before {content: \"\";position: absolute;border-left: 1px solid gray;box-sizing: border-box;top: 0;bottom: 0;left: 50%;z-index: 0;}#sk-container-id-2 div.sk-serial {display: flex;flex-direction: column;align-items: center;background-color: white;padding-right: 0.2em;padding-left: 0.2em;position: relative;}#sk-container-id-2 div.sk-item {position: relative;z-index: 1;}#sk-container-id-2 div.sk-parallel {display: flex;align-items: stretch;justify-content: center;background-color: white;position: relative;}#sk-container-id-2 div.sk-item::before, #sk-container-id-2 div.sk-parallel-item::before {content: \"\";position: absolute;border-left: 1px solid gray;box-sizing: border-box;top: 0;bottom: 0;left: 50%;z-index: -1;}#sk-container-id-2 div.sk-parallel-item {display: flex;flex-direction: column;z-index: 1;position: relative;background-color: white;}#sk-container-id-2 div.sk-parallel-item:first-child::after {align-self: flex-end;width: 50%;}#sk-container-id-2 div.sk-parallel-item:last-child::after {align-self: flex-start;width: 50%;}#sk-container-id-2 div.sk-parallel-item:only-child::after {width: 0;}#sk-container-id-2 div.sk-dashed-wrapped {border: 1px dashed gray;margin: 0 0.4em 0.5em 0.4em;box-sizing: border-box;padding-bottom: 0.4em;background-color: white;}#sk-container-id-2 div.sk-label label {font-family: monospace;font-weight: bold;display: inline-block;line-height: 1.2em;}#sk-container-id-2 div.sk-label-container {text-align: center;}#sk-container-id-2 div.sk-container {/* jupyter's `normalize.less` sets `[hidden] { display: none; }` but bootstrap.min.css set `[hidden] { display: none !important; }` so we also need the `!important` here to be able to override the default hidden behavior on the sphinx rendered scikit-learn.org. See: https://github.com/scikit-learn/scikit-learn/issues/21755 */display: inline-block !important;position: relative;}#sk-container-id-2 div.sk-text-repr-fallback {display: none;}</style><div id=\"sk-container-id-2\" class=\"sk-top-container\"><div class=\"sk-text-repr-fallback\"><pre>LogisticRegression(random_state=42)</pre><b>In a Jupyter environment, please rerun this cell to show the HTML representation or trust the notebook. <br />On GitHub, the HTML representation is unable to render, please try loading this page with nbviewer.org.</b></div><div class=\"sk-container\" hidden><div class=\"sk-item\"><div class=\"sk-estimator sk-toggleable\"><input class=\"sk-toggleable__control sk-hidden--visually\" id=\"sk-estimator-id-2\" type=\"checkbox\" checked><label for=\"sk-estimator-id-2\" class=\"sk-toggleable__label sk-toggleable__label-arrow\">LogisticRegression</label><div class=\"sk-toggleable__content\"><pre>LogisticRegression(random_state=42)</pre></div></div></div></div></div>"
      ],
      "text/plain": [
       "LogisticRegression(random_state=42)"
      ]
     },
     "execution_count": 34,
     "metadata": {},
     "output_type": "execute_result"
    }
   ],
   "source": [
    "# Step 7: Split data into training and testing sets\n",
    "X_train, X_test, y_train, y_test = train_test_split(X, y, test_size=0.2, random_state=42, stratify=y)\n",
    "\n",
    "# Step 8: Feature scaling (standardize features)\n",
    "scaler = StandardScaler()\n",
    "X_train_scaled = scaler.fit_transform(X_train)\n",
    "X_test_scaled = scaler.transform(X_test)\n",
    "\n",
    "# Step 9: Initialize and train the Logistic Regression model\n",
    "model = LogisticRegression(random_state=42)\n",
    "model.fit(X_train_scaled, y_train)"
   ]
  },
  {
   "cell_type": "code",
   "execution_count": 35,
   "metadata": {},
   "outputs": [
    {
     "name": "stdout",
     "output_type": "stream",
     "text": [
      "Cross-validation accuracy: 0.9984 ± 0.0009\n"
     ]
    }
   ],
   "source": [
    "# Step 10: Perform cross-validation (5-fold cross-validation)\n",
    "cv_scores = cross_val_score(model, X_train_scaled, y_train, cv=5, scoring='accuracy')\n",
    "print(f\"Cross-validation accuracy: {cv_scores.mean():.4f} ± {cv_scores.std():.4f}\")\n"
   ]
  },
  {
   "cell_type": "code",
   "execution_count": 43,
   "metadata": {},
   "outputs": [
    {
     "data": {
      "text/plain": [
       "['logreg_model.pkl']"
      ]
     },
     "execution_count": 43,
     "metadata": {},
     "output_type": "execute_result"
    }
   ],
   "source": [
    "# Step 11: Predict on the test set\n",
    "y_pred = model.predict(X_test_scaled)\n",
    "y_prob = model.predict_proba(X_test_scaled)[:, 1]\n",
    "joblib.dump(model, 'logreg_model.pkl') "
   ]
  },
  {
   "cell_type": "code",
   "execution_count": 37,
   "metadata": {},
   "outputs": [
    {
     "name": "stdout",
     "output_type": "stream",
     "text": [
      "\n",
      "Classification Report:\n",
      "              precision    recall  f1-score   support\n",
      "\n",
      "           0       1.00      1.00      1.00       890\n",
      "           1       0.99      1.00      1.00       225\n",
      "\n",
      "    accuracy                           1.00      1115\n",
      "   macro avg       1.00      1.00      1.00      1115\n",
      "weighted avg       1.00      1.00      1.00      1115\n",
      "\n",
      "\n",
      "Confusion Matrix:\n",
      "[[888   2]\n",
      " [  0 225]]\n"
     ]
    }
   ],
   "source": [
    "# Step 12: Evaluate the model with classification report and confusion matrix\n",
    "from sklearn.metrics import classification_report, confusion_matrix\n",
    "\n",
    "\n",
    "print(\"\\nClassification Report:\")\n",
    "print(classification_report(y_test, y_pred))\n",
    "\n",
    "print(\"\\nConfusion Matrix:\")\n",
    "print(confusion_matrix(y_test, y_pred))"
   ]
  },
  {
   "cell_type": "code",
   "execution_count": 38,
   "metadata": {},
   "outputs": [],
   "source": [
    "# Step 13: ROC curve and AUC calculation\n",
    "fpr, tpr, thresholds = roc_curve(y_test, y_prob)\n",
    "roc_auc = auc(fpr, tpr)\n"
   ]
  },
  {
   "cell_type": "code",
   "execution_count": 39,
   "metadata": {},
   "outputs": [
    {
     "data": {
      "image/png": "[encoded data removed]",
      "text/plain": [
       "<Figure size 1000x600 with 1 Axes>"
      ]
     },
     "metadata": {},
     "output_type": "display_data"
    }
   ],
   "source": [
    "# Step 14: Plot ROC curve\n",
    "plt.figure(figsize=(10, 6))\n",
    "plt.plot(fpr, tpr, color=\"darkorange\", lw=2, label=f\"ROC curve (AUC = {roc_auc:.2f})\")\n",
    "plt.plot([0, 1], [0, 1], color=\"navy\", lw=2, linestyle=\"--\")\n",
    "plt.xlabel(\"False Positive Rate\")\n",
    "plt.ylabel(\"True Positive Rate\")\n",
    "plt.title(\"Receiver Operating Characteristic (ROC) Curve\")\n",
    "plt.legend(loc=\"lower right\")\n",
    "plt.show()"
   ]
  },
  {
   "cell_type": "code",
   "execution_count": 40,
   "metadata": {},
   "outputs": [
    {
     "name": "stdout",
     "output_type": "stream",
     "text": [
      "AUC Score: 1.0000\n"
     ]
    }
   ],
   "source": [
    "# Print AUC score\n",
    "print(f\"AUC Score: {roc_auc:.4f}\")"
   ]
  },
  {
   "cell_type": "code",
   "execution_count": 41,
   "metadata": {},
   "outputs": [
    {
     "name": "stdout",
     "output_type": "stream",
     "text": [
      "Accuracy: 0.9982\n",
      "Precision: 0.9912\n",
      "Recall: 1.0000\n",
      "F1-Score: 0.9956\n",
      "Confusion Matrix:\n",
      "[[888   2]\n",
      " [  0 225]]\n"
     ]
    }
   ],
   "source": [
    "from sklearn.metrics import accuracy_score, precision_score, recall_score, f1_score, classification_report, confusion_matrix\n",
    "\n",
    "\n",
    "# Calculate Accuracy\n",
    "accuracy = accuracy_score(y_test, y_pred)\n",
    "print(f\"Accuracy: {accuracy:.4f}\")\n",
    "\n",
    "# Calculate Precision\n",
    "precision = precision_score(y_test, y_pred)\n",
    "print(f\"Precision: {precision:.4f}\")\n",
    "\n",
    "# Calculate Recall\n",
    "recall = recall_score(y_test, y_pred)\n",
    "print(f\"Recall: {recall:.4f}\")\n",
    "\n",
    "# Calculate F1-Score\n",
    "f1 = f1_score(y_test, y_pred)\n",
    "print(f\"F1-Score: {f1:.4f}\")\n",
    "\n",
    "# Confusion Matrix\n",
    "print(\"Confusion Matrix:\")\n",
    "print(confusion_matrix(y_test, y_pred))\n"
   ]
  }
 ],
 "metadata": {
  "kernelspec": {
   "display_name": "Python 3",
   "language": "python",
   "name": "python3"
  },
  "language_info": {
   "codemirror_mode": {
    "name": "ipython",
    "version": 3
   },
   "file_extension": ".py",
   "mimetype": "text/x-python",
   "name": "python",
   "nbconvert_exporter": "python",
   "pygments_lexer": "ipython3",
   "version": "3.11.3"
  }
 },
 "nbformat": 4,
 "nbformat_minor": 2
}
